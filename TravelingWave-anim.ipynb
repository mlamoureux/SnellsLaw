{
 "cells": [
  {
   "cell_type": "markdown",
   "metadata": {},
   "source": [
    "## E&M Transmission Line Animation\n",
    "\n",
    "&copy; January 2022, Michael P Lamoureux. University of Calgary. \n",
    "\n",
    "#### Acknowledgement\n",
    "\n",
    "Following a suggestion from our colleague Dr. Matt Yedlin of UBC, we demonstrate an animation of a electrical wave travelling down a transmission line, with a possibly mismatched load at one end. \n",
    "\n",
    "Based on the section 10.10 **Voltage Standing Wave Ration** in the textbook **Engineering Electromagnetics** (8th edition) by *William H. Hayt, Jr.* and *John A. Buck.*\n",
    "\n",
    "Specifically, we create an animation of the mathematical model described in Equation (84) of the above text. "
   ]
  },
  {
   "cell_type": "markdown",
   "metadata": {},
   "source": [
    "## Transmission lines\n",
    "\n",
    "A transmission line is something as simple as a length of coaxial cable, where you put some input signal in one end and there is a load at the other end that absorbs the signal as the output of the line. The load could be something as simple as a resistor or inductor; often it is a piece of equipment like an amplifier or an antenna. \n",
    "\n",
    "If this load is properly matched to the transmission line, all of the input signal is transmitted to the load and one can observe a travelling wave as the signal moves from one end of the transmission line to the other. If the load is badly mismatched (for instance if it is an electrical short, or an open line), then there is total reflection at the endpoint of the line and you will see a standing wave formed in the transmission line. \n",
    "\n",
    "More typically, there is a slight mismatch in the load, and a partial reflection results at the output end of the transmission line. In this case, one observes a sum of both a travelling wave and a standing wave. The result is a partial standing wave, whose RMS amplitude can be measured as a function of position along the transmission wave.\n",
    "\n",
    "The ratio of the maximum to minimum amplitude of this standing wave is called the **voltage standing wave ratio** and can be used to deduce information about the matching load. "
   ]
  },
  {
   "cell_type": "markdown",
   "metadata": {},
   "source": [
    "In the textbook **Engineering Electromagnetics** by *Hayt* and *Buck*, a derivation is provided to show how the voltage $V(z,t)$ varies along the length of the transmission line, as a function of linear displacement $z$ along the line, and of time $t$. \n",
    "\n",
    "The result is expressed in Equation (84) in the text, for the real instantaneous form:\n",
    "\n",
    "$$ V(z, t) = Re[V_{s T}(z)e^{j\\omega t} ] = V_0(1 − |\\Gamma|) \\cos(\\omega t − \\beta z) \n",
    "            + 2|\\Gamma |V_0 \\cos(\\beta z + \\phi /2) \\cos(\\omega t + \\phi/2). $$\n",
    "            \n",
    "The first term is the travelling wave, the second term is the standing wave. "
   ]
  },
  {
   "cell_type": "markdown",
   "metadata": {},
   "source": [
    "## Normalized units\n",
    "\n",
    "It is convenient to insert a factor of $2\\pi$ into the cosines, in order to put the parameters into a normalized form. In this case, we re-write equation (84) as follows:\n",
    "\n",
    "$$ V(z, t) = Re[V_{s T}(z)e^{2\\pi j\\omega t} ] = V_0(1 − |\\Gamma|) \\cos(2\\pi(\\omega t − \\beta z)) \n",
    "            + 2|\\Gamma |V_0 \\cos(2\\pi(\\beta z + \\phi /2)) \\cos(2\\pi(\\omega t + \\phi/2)). $$\n",
    "\n",
    "In this normalized form, we have our frequency-like parameters defined as:\n",
    "- Temporal Frequency $\\omega$ in Hertz (cycles per second)\n",
    "- Spatial Frequency $\\beta$ as inverse wavelength (cycles per meter)\n",
    "- Angular Phase $\\phi$ as a fraction of a cycle, in the range $[-0.5,0.5]$\n",
    "\n",
    "The remaining parameters remain the same as in the original Equation (84):\n",
    "- Amplitude $V_0$ in volts\n",
    "- Reflection Coefficient $\\Gamma$ in the range $[-1,1]$\n",
    "- Time $t$ in seconds\n",
    "- Displacement $z$ in meters"
   ]
  },
  {
   "cell_type": "markdown",
   "metadata": {},
   "source": [
    "## Phasor voltage\n",
    "\n",
    "It is interesting to include the phasor voltage $V_{sT}(z)$ as a function of displacement along the transmission line, as it is the magnitude of the phasor that the instruments will measure, not the instantaneous voltage. \n",
    "\n",
    "Following *Hayt* and *Buck*, from Equation (79), we write the phasor voltage as\n",
    "$$ V_{sT}(z) = V_0 (e^{-2\\pi j \\beta z} + |\\Gamma|e^{2\\pi j (\\beta z + \\phi)}).$$\n",
    "\n",
    "Its magnitude is computed from the real and imaginary parts of the phasor to obtain \n",
    "$$V_{mag}(z) = | V_{sT}(z) | = V_0\\sqrt{1 + 2|\\Gamma|\\cos(2\\pi(2\\beta z + \\phi)) + |\\Gamma|^2}.$$\n",
    "\n",
    "The ratio of the maximum value of $V_{mag}$ to its minimum is called the standing wave ratio, and is given by\n",
    "$$ s = \\frac{1+|\\Gamma|}{1-|\\Gamma|},$$\n",
    "as defined in Equation (92) in *Hayt* and *Buck*.\n",
    "\n",
    "We will plot $V_{mag}$ and its negative in the animation below, to demonstrate how the traveling waveform fits within the spatial envelope given by the phasor."
   ]
  },
  {
   "cell_type": "markdown",
   "metadata": {},
   "source": [
    "## Animating the waveform\n",
    "\n",
    "We set up a plotting routine to plot the above waveform, as the function $V(z,t)$ of displacement $z$ in the horisonal axis, and voltage $V$ in the vertical axis, for various values of t. The time variable t can be set to increment automatically, in order to give a line animation in the time dimension. \n",
    "\n",
    "We will include several sliders so the user can vary the parameters in the waveform, to investigate their properties. \n"
   ]
  },
  {
   "cell_type": "markdown",
   "metadata": {},
   "source": [
    "## Step one\n",
    "\n",
    "We load in some handy Python library functions, including from Numerical Python, MatPlotLib and Interactive Widgets. "
   ]
  },
  {
   "cell_type": "code",
   "execution_count": null,
   "metadata": {},
   "outputs": [],
   "source": [
    "%matplotlib inline\n",
    "from numpy import linspace, cos, pi, sqrt\n",
    "import matplotlib.pyplot as plt\n",
    "from ipywidgets import interactive_output, IntSlider, FloatSlider, Checkbox, Play, Label, jslink, HBox, VBox\n",
    "from IPython.display import display"
   ]
  },
  {
   "cell_type": "markdown",
   "metadata": {},
   "source": [
    "## Step two\n",
    "\n",
    "We set up a plotting routine to show the waveform, and include some default values for various parameters.\n",
    "The global variable max_z sets the length of the transmission line, which we have selected as one meter. We also include the envelop given by $\\pm V_{mag}$ as described above.\n",
    "\n",
    "For convenience, we convert the time variable t from milliseconds to seconds in the function plot_volts"
   ]
  },
  {
   "cell_type": "code",
   "execution_count": null,
   "metadata": {},
   "outputs": [],
   "source": [
    "# the load is placed at the origin, and the transmission line to the left\n",
    "min_z = -1.0\n",
    "max_z =  0.0 \n",
    "z = linspace(min_z,max_z,500)\n",
    "\n",
    "def plot_volts(V0=1,gamma=0,omega=2,beta=5,phi=0,t=0,phasor=True):\n",
    "    t = t/1000 ## convert from milliseconds to seconds\n",
    "    volts = V0*(1-abs(gamma))*cos(2*pi*(omega*t - beta*z)) + \\\n",
    "        2*V0*abs(gamma)*cos(2*pi*(beta*z + phi/2))*cos(2*pi*(omega*t + phi/2))\n",
    "    volts_mag = V0*sqrt(1 + gamma**2 + 2*abs(gamma)*cos(2*pi*(2*beta*z + phi)))\n",
    "    if phasor:\n",
    "        plt.plot(z,volts,z,volts_mag,z,-volts_mag)\n",
    "    else:\n",
    "        plt.plot(z,volts)    \n",
    "    plt.axis([min_z,max_z,-6,6])\n",
    "    plt.xlabel(\"Displacement z (m)\")\n",
    "    plt.ylabel(\"Output voltage (volts)\")\n",
    "    plt.show()"
   ]
  },
  {
   "cell_type": "code",
   "execution_count": null,
   "metadata": {},
   "outputs": [],
   "source": [
    "# Let's do a default plot to verify it works\n",
    "plot_volts()"
   ]
  },
  {
   "cell_type": "markdown",
   "metadata": {},
   "source": [
    "## Step Three\n",
    "\n",
    "We set up several slider widgets, to allow the user to control various parameters in the animation\n",
    "\n",
    "The Play widget will allow the user to run the animation, advancing the time parameter $t$ automatically."
   ]
  },
  {
   "cell_type": "code",
   "execution_count": null,
   "metadata": {},
   "outputs": [],
   "source": [
    "V0 = IntSlider(\n",
    "    value=2,\n",
    "    min=0,\n",
    "    max=10,\n",
    "    description=\"Amplitude \\( V_0 \\)\"\n",
    ")\n",
    "gamma = FloatSlider(\n",
    "    value=0.3,\n",
    "    min=-1.0,\n",
    "    max= 1.0,\n",
    "    step= 0.1,\n",
    "    description=r\"Reflection \\( \\Gamma \\)\"\n",
    ")\n",
    "omega = IntSlider(\n",
    "    value=2,\n",
    "    min=0,\n",
    "    max=10,\n",
    "    description=r\"Frequency \\( \\omega \\)\"\n",
    ")\n",
    "beta = IntSlider(\n",
    "    value=2,\n",
    "    min=0,\n",
    "    max=10,\n",
    "    description=r\"Sp'tl Freq \\( \\beta\\, \\) \"\n",
    ")\n",
    "phi = FloatSlider(\n",
    "    value=0,\n",
    "    min=-0.5,\n",
    "    max= 0.5,\n",
    "    step= 0.1,\n",
    "    description=r\"Phase \\( \\phi \\)\"\n",
    ")\n",
    "phasor = Checkbox(\n",
    "    value=False,\n",
    "    description='Show Phasor Magnitude',\n",
    "    disabled=False,\n",
    "    indent=False\n",
    ")\n",
    "t = IntSlider(\n",
    "    value=0,\n",
    "    min=0,\n",
    "    max=1000,\n",
    "    description=\"Time t (msec)\"\n",
    ")\n",
    "t_play = Play(\n",
    "    value=0,\n",
    "    min=0,\n",
    "    max=1000,\n",
    "    step=10,\n",
    "    interval=345,  # real time between updates. Try 345 msec\n",
    "    disabled=False\n",
    ")\n",
    "# we must link the t slider to the play widget, for the animation to run\n",
    "jslink((t_play, 'value'), (t, 'value'));\n",
    "\n",
    "# these lines create the user interface, and the output widget\n",
    "ui = VBox([V0,gamma,omega,beta,phi,HBox([t,t_play,Label(value=\"Press to Play\")]),phasor])\n",
    "out = interactive_output(plot_volts,{'V0':V0,'gamma':gamma,'omega':omega,'beta':beta,'phi':phi,'t':t,'phasor':phasor});\n"
   ]
  },
  {
   "cell_type": "markdown",
   "metadata": {},
   "source": [
    "## Final Step\n",
    "\n",
    "We display the User Interface (consisting of six sliders) and the output plot."
   ]
  },
  {
   "cell_type": "code",
   "execution_count": null,
   "metadata": {},
   "outputs": [],
   "source": [
    "display(ui,out)"
   ]
  },
  {
   "cell_type": "markdown",
   "metadata": {},
   "source": [
    "## Comments\n",
    "\n",
    "Click the Play button to start the animation. You may also click the Loop button to allow the animation to loop over and over again. \n",
    "\n",
    "You may adjust the other parameters both when the animation is in motion, or when it is static. \n",
    "\n",
    "Set the reflection coefficient $\\Gamma$ to zero to see a pure travelling wave. Set $\\Gamma$ to one to see a pure standing wave. Anything in between is a combination of travelling and standing waves.\n",
    "\n",
    "Observe that as you adjust $\\Gamma$, the ratio of the peaks to troughs in the waveform envelop changes. This is called the Standing Wave Ratio and can be used to compute the load impedance. \n",
    "\n",
    "Adjust the spatial frequency $\\beta$ to put more or fewer cycles on the line.\n",
    "\n",
    "Adjust the temporal frequency $\\omega$ to have more or fewer cycles per second (faster oscillations).\n",
    "\n",
    "The phase $\\phi$ adjusts where the nodes are. For a standing wave, $\\phi = \\pm 0.5$ puts the zero nodes at the ends of the transmission line. "
   ]
  },
  {
   "cell_type": "code",
   "execution_count": null,
   "metadata": {},
   "outputs": [],
   "source": []
  }
 ],
 "metadata": {
  "kernelspec": {
   "display_name": "Python 3",
   "language": "python",
   "name": "python3"
  },
  "language_info": {
   "codemirror_mode": {
    "name": "ipython",
    "version": 3
   },
   "file_extension": ".py",
   "mimetype": "text/x-python",
   "name": "python",
   "nbconvert_exporter": "python",
   "pygments_lexer": "ipython3",
   "version": "3.7.4"
  }
 },
 "nbformat": 4,
 "nbformat_minor": 2
}
